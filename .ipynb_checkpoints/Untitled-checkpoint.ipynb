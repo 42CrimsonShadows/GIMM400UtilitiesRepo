{
 "cells": [
  {
   "cell_type": "code",
   "execution_count": 68,
   "metadata": {},
   "outputs": [
    {
     "name": "stdout",
     "output_type": "stream",
     "text": [
      "1000\n",
      "333.3333333333333\n"
     ]
    }
   ],
   "source": [
    "#inputgrades = [(int(x)) for x in input().split()]\n",
    "#print(inputgrades)\n",
    "#inputWeights = [float(x) for x in input().split()]\n",
    "#print(inputgrades)\n",
    "\n",
    "grades = [100, 100, 100]\n",
    "weights = [60, 30, 10]\n",
    "\n",
    "allNumber = 0.0\n",
    "weightedMean = 0.0\n",
    "\n",
    "for i in weights:\n",
    "    for j in grades:\n",
    "        allNumbers =+ (i*j)\n",
    "        \n",
    "print(allNumbers)\n",
    "weightedMean = allNumbers/len(grades)\n",
    "\n",
    "print(weightedMean)"
   ]
  },
  {
   "cell_type": "code",
   "execution_count": null,
   "metadata": {},
   "outputs": [],
   "source": []
  }
 ],
 "metadata": {
  "kernelspec": {
   "display_name": "Python 3",
   "language": "python",
   "name": "python3"
  },
  "language_info": {
   "codemirror_mode": {
    "name": "ipython",
    "version": 3
   },
   "file_extension": ".py",
   "mimetype": "text/x-python",
   "name": "python",
   "nbconvert_exporter": "python",
   "pygments_lexer": "ipython3",
   "version": "3.7.3"
  }
 },
 "nbformat": 4,
 "nbformat_minor": 2
}
