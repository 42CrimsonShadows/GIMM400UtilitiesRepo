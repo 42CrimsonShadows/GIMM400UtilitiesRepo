{
 "cells": [
  {
   "cell_type": "code",
   "execution_count": 1,
   "metadata": {},
   "outputs": [
    {
     "name": "stdout",
     "output_type": "stream",
     "text": [
      "Hello World.\n"
     ]
    }
   ],
   "source": [
    "#print statement\n",
    "print(\"Hello World.\")"
   ]
  },
  {
   "cell_type": "code",
   "execution_count": 2,
   "metadata": {},
   "outputs": [
    {
     "name": "stdout",
     "output_type": "stream",
     "text": [
      "7\n",
      "7.0\n",
      "7.0\n"
     ]
    }
   ],
   "source": [
    "#Defineing an integer number\n",
    "myInt = 7\n",
    "print(myInt)\n",
    "#Define floating point number\n",
    "myFloat = 7.0\n",
    "print(myFloat)  \n",
    "#or\n",
    "myFloat = float(7)\n",
    "print(myFloat)"
   ]
  },
  {
   "cell_type": "code",
   "execution_count": 3,
   "metadata": {},
   "outputs": [
    {
     "name": "stdout",
     "output_type": "stream",
     "text": [
      "hello\n",
      "hello\n"
     ]
    }
   ],
   "source": [
    "#strings for use as variables\n",
    "myString = 'hello'\n",
    "print(myString)\n",
    "#or\n",
    "myString = \"hello\" #can use apostophes easier with \"\"\n",
    "print(myString)"
   ]
  },
  {
   "cell_type": "code",
   "execution_count": 4,
   "metadata": {},
   "outputs": [
    {
     "name": "stdout",
     "output_type": "stream",
     "text": [
      "3\n",
      "hello world\n",
      "hello world 4\n",
      "3 4\n"
     ]
    }
   ],
   "source": [
    "#numbers and strings\n",
    "one = 1\n",
    "two = 2\n",
    "three = one + two\n",
    "print(three)\n",
    "#and\n",
    "hello = \"hello\"\n",
    "world = \"world\"\n",
    "helloWorld = hello + \" \" + world\n",
    "print(helloWorld)\n",
    "#Mixing operators for numbers and strings is not supported by Python unliess...\n",
    "lol = 4\n",
    "print(hello + \" \" + world + \" %lo\" %lol) #first 2 letters?\n",
    "#multi variable assignment on the same line\n",
    "a, b = 3, 4\n",
    "print(a, b)"
   ]
  },
  {
   "cell_type": "code",
   "execution_count": 64,
   "metadata": {},
   "outputs": [
    {
     "name": "stdout",
     "output_type": "stream",
     "text": [
      "Pluto is the 9th in the solar system\n",
      "Pluto, you'll always be the 9th planet to me.\n",
      "Pluto weighs about 1.3e+22 kilograms (0.218% of Earth's mass). It is home to 52,910,390 Plutonians.\n"
     ]
    }
   ],
   "source": [
    "#change a number into a string\n",
    "number = 9\n",
    "planet = \"Pluto\"\n",
    "#print(planet + \"is the \" + number + \"th in the solar system\") won't work cause number isn't string\n",
    "print(planet + \" is the \" + str(number) + \"th in the solar system\")\n",
    "print(\"{}, you'll always be the {}th planet to me.\".format(planet, number)) #another clearner way\n",
    "\n",
    "pluto_mass = 1.303 * 10**22 #10^2\n",
    "earth_mass = 5.9722 * 10**24 #10^24\n",
    "population = 52910390\n",
    "#                    2 decimal points, 3 decimal points(format as percent)    separate with commas\n",
    "print(\"{} weighs about {:.2} kilograms ({:.3%} of Earth's mass). It is home to {:,} Plutonians.\".format(planet, pluto_mass, pluto_mass/earth_mass, population))"
   ]
  },
  {
   "cell_type": "code",
   "execution_count": 86,
   "metadata": {},
   "outputs": [
    {
     "name": "stdout",
     "output_type": "stream",
     "text": [
      "False\n",
      "True\n",
      "True\n",
      "False\n"
     ]
    },
    {
     "data": {
      "text/plain": [
       "False"
      ]
     },
     "execution_count": 86,
     "metadata": {},
     "output_type": "execute_result"
    }
   ],
   "source": [
    "#Checking for numbers in a string\n",
    "# For alphabet\n",
    "print('A'.isdigit()) #prints false\n",
    "print('A'.isalpha()) #prints true\n",
    "\n",
    "# For digit\n",
    "print('1'.isdigit()) #prints true\n",
    "print('1'.isalpha()) #prints false\n",
    "\n",
    "def is_valid_zip(zip_code):\n",
    "    \"\"\"Returns whether the input string is a valid (5 digit) zip code\n",
    "    \"\"\"\n",
    "    if len(zip_code) == 5 and zip_code.isdigit():\n",
    "        return True\n",
    "    else:\n",
    "        return False\n",
    "is_valid_zip(\"1234x\")"
   ]
  },
  {
   "cell_type": "code",
   "execution_count": 28,
   "metadata": {},
   "outputs": [
    {
     "name": "stdout",
     "output_type": "stream",
     "text": [
      "1\n",
      "2\n",
      "3\n",
      "3\n",
      "[1, 2]\n",
      "[1, 2]\n",
      "[2, 3]\n",
      "[2]\n",
      "[2, 3]\n",
      "x = 1\n",
      "x = 2\n",
      "x = 3\n"
     ]
    }
   ],
   "source": [
    "#Creating Lists in PYthon\n",
    "myList = []\n",
    "myList.append(1)\n",
    "myList.append(2)\n",
    "myList.append(3)\n",
    "print(myList[0]) #print 1\n",
    "print(myList[1]) #print 2\n",
    "print(myList[2]) #print 3 and print(myList[4]) is obviously an exception error\n",
    "print(myList[-1]) #loops back to the last one in the list\n",
    "print(myList[0:2]) #SLICE out just the first two in the List (not including index 2)\n",
    "print(myList[:2]) #Same as above (assumes starting at 0)\n",
    "print(myList[1:]) #assumes your slicing to the end of the List\n",
    "print(myList[1:-1]) #all list items except first and last\n",
    "print(myList[-2:]) #only the last 2 items in the List\n",
    "for x in myList:\n",
    "    print(\"x = %x\" % x) #prints out 1, 2, 3"
   ]
  },
  {
   "cell_type": "code",
   "execution_count": 29,
   "metadata": {},
   "outputs": [
    {
     "name": "stdout",
     "output_type": "stream",
     "text": [
      "True\n",
      "6\n",
      "3\n",
      "['one', 'two', 3]\n",
      "3\n",
      "['one', 'two']\n",
      "2\n",
      "3\n"
     ]
    }
   ],
   "source": [
    "#do stuff with the list\n",
    "print(2 in myList) #Is 2 in the List??? (True)\n",
    "print(sum(myList)) #adds all the numbers together (prints 6)\n",
    "print(max(myList)) #print the largest (prints 3)\n",
    "myList[:2] = ['one', 'two'] #change the stuff in the list for the first 2\n",
    "print(myList)\n",
    "\n",
    "print(len(myList)) #get the amount of items in the List (prints 3)\n",
    "print(sorted(myList[:2])) #sort them in alphpabetical order\n",
    "\n",
    "print(myList.index(3)) #get the index position in the List (prints 2)\n",
    "print(myList.pop()) #removes and return the last item in the list (prints 3)"
   ]
  },
  {
   "cell_type": "code",
   "execution_count": 13,
   "metadata": {},
   "outputs": [
    {
     "data": {
      "text/plain": [
       "True"
      ]
     },
     "execution_count": 13,
     "metadata": {},
     "output_type": "execute_result"
    }
   ],
   "source": [
    "#copmaring items in a List\n",
    "def menu_is_boring(meals):\n",
    "    # Iterate over all indices of the list, except the last one\n",
    "    #range creates a sequence of numbers from 0 to length of List - 1\n",
    "    for i in range(len(meals)-1):\n",
    "        if meals[i] == meals[i+1]:\n",
    "            return True\n",
    "    return False\n",
    "\n",
    "meals = [\"Eggs\", \"Spam\", \"Spam\", \"Eggs\", \"Waffles\"]\n",
    "menu_is_boring(meals)"
   ]
  },
  {
   "cell_type": "code",
   "execution_count": 31,
   "metadata": {},
   "outputs": [
    {
     "data": {
      "text/plain": [
       "(1, 2, 3)"
      ]
     },
     "execution_count": 31,
     "metadata": {},
     "output_type": "execute_result"
    }
   ],
   "source": [
    "#Tuples are like Lists but they are immutable (cannot be modified)\n",
    "t = (1, 2, 3)\n",
    "t\n",
    "#t[0] = 100 would not work"
   ]
  },
  {
   "cell_type": "code",
   "execution_count": 6,
   "metadata": {},
   "outputs": [
    {
     "name": "stdout",
     "output_type": "stream",
     "text": [
      "2.5\n",
      "2\n",
      "hellohellohellohellohellohellohellohellohellohello\n"
     ]
    }
   ],
   "source": [
    "#Python Operaters is similar to C#\n",
    "number = 1 + 2 * 3 /4.0\n",
    "print(number)\n",
    "remainder = 11 % 3 #modulo operator\n",
    "print(remainder)\n",
    "lotsOfHellos = \"hello\" * 10\n",
    "print(lotsOfHellos) #1 lines of 10 \"hello\""
   ]
  },
  {
   "cell_type": "code",
   "execution_count": 7,
   "metadata": {},
   "outputs": [
    {
     "name": "stdout",
     "output_type": "stream",
     "text": [
      "49\n",
      "8\n"
     ]
    }
   ],
   "source": [
    "#two ** makes an exponent operator\n",
    "squared = 7 ** 2\n",
    "cubed = 2 ** 3\n",
    "print(squared)\n",
    "print(cubed)"
   ]
  },
  {
   "cell_type": "code",
   "execution_count": 8,
   "metadata": {},
   "outputs": [
    {
     "name": "stdout",
     "output_type": "stream",
     "text": [
      "[1, 3, 5, 7, 2, 4, 6, 8]\n",
      "[1, 2, 3, 1, 2, 3, 1, 2, 3]\n"
     ]
    }
   ],
   "source": [
    "#You can use operators with lists\n",
    "even_numbers = [2, 4, 6, 8]\n",
    "odd_numbers = [1, 3, 5, 7]\n",
    "all_numbers = odd_numbers + even_numbers\n",
    "print(all_numbers)\n",
    "print([1, 2, 3] * 3) #1 list of 1, 2, 3, 1, 2, 3, 1, 2, 3"
   ]
  },
  {
   "cell_type": "code",
   "execution_count": 10,
   "metadata": {},
   "outputs": [
    {
     "name": "stdout",
     "output_type": "stream",
     "text": [
      "False\n"
     ]
    }
   ],
   "source": [
    "#Dont Break your loop Early!!!\n",
    "def has_lucky_number(nums):\n",
    "    \"\"\"Return whether the given list of numbers is lucky. A lucky list contains\n",
    "    at least one number divisible by 7.\n",
    "    \"\"\"\n",
    "    for num in nums:\n",
    "        if num % 7 == 0:\n",
    "            return True\n",
    "        else:\n",
    "            return False\n",
    "        \n",
    "    #must return false outside of forloop\n",
    "    #return breaks the loop\n",
    "    #return False\n",
    "    \n",
    "odd_numbers = [1, 3, 5, 7]\n",
    "print(has_lucky_number(odd_numbers))"
   ]
  },
  {
   "cell_type": "code",
   "execution_count": 12,
   "metadata": {},
   "outputs": [
    {
     "data": {
      "text/plain": [
       "[False, False, True, True]"
      ]
     },
     "execution_count": 12,
     "metadata": {},
     "output_type": "execute_result"
    }
   ],
   "source": [
    "#List Comprehension\n",
    "def elementwise_greater_than(L, thresh):\n",
    "    res = []\n",
    "    #for all the idexes in L...\n",
    "    for ele in L:\n",
    "        #append it to the new list if it's greater than the \"thresh\" number\n",
    "        res.append(ele > thresh)\n",
    "    return res\n",
    "\n",
    "#And here's the list comprehension version:\n",
    "def elementwise_greater_than(L, thresh):\n",
    "    #automatically returns a created list bools for each element in the L list\n",
    "    return [ele > thresh for ele in L]\n",
    "\n",
    "elementwise_greater_than(odd_numbers, 3)"
   ]
  },
  {
   "cell_type": "code",
   "execution_count": 9,
   "metadata": {},
   "outputs": [
    {
     "name": "stdout",
     "output_type": "stream",
     "text": [
      "Hello John!\n",
      "John is 23 years old.\n",
      "John is 23 years old but loved the ages 1, 2, and 3.\n",
      "Hello John Doe. Your current balance is $53.44.\n"
     ]
    }
   ],
   "source": [
    "#string formating \n",
    "#%s = string, \n",
    "#%s = Integers,\n",
    "#%f = floating point numbers, \n",
    "#%.<number of digits>f = Floating point numbers with a fixed amount of digits to the right of the dot.\n",
    "#%x/%x = Ingegers in ahex representation (lowercase/uppercase)\n",
    "name = \"John\"\n",
    "print(\"Hello %s!\" %name) #uses the % to designate the variable\n",
    "age = 23\n",
    "print(\"%s is %d years old.\" %(name, age)) #designates multiple vars\n",
    "myList = [1, 2, 3]\n",
    "print(\"%s is %d years old but loved the ages %d, %d, and %d.\" %(name, age, myList[0], myList[1], myList[2]))\n",
    "\n",
    "data = (\"John\", \"Doe\", 53.44)\n",
    "format_string = \"Hello %s %s. Your current balance is $%s.\"\n",
    "print(format_string % data) #prints Hello John Doe. Your current balance is $53.44."
   ]
  },
  {
   "cell_type": "code",
   "execution_count": 18,
   "metadata": {},
   "outputs": [
    {
     "name": "stdout",
     "output_type": "stream",
     "text": [
      "single quotes are ' '\n",
      "12\n",
      "Pluto's a planet!\n"
     ]
    }
   ],
   "source": [
    "#dealing with multi quotes\n",
    "bString = \"Hello world!\"\n",
    "print(\"single quotes are ' '\")\n",
    "print(len(bString)) #prints 12 because its 12 characters long\n",
    "print('Pluto\\'s a planet!') #escape the single quote with a backslash"
   ]
  },
  {
   "cell_type": "code",
   "execution_count": 31,
   "metadata": {},
   "outputs": [
    {
     "name": "stdout",
     "output_type": "stream",
     "text": [
      "Pluto is\n",
      "a planet!\n",
      "hi\n",
      "there\n",
      "world\n",
      "hi\n",
      "there\n",
      "world\n",
      "helloworld2\n"
     ]
    }
   ],
   "source": [
    "#dealing with multiple lines\n",
    "print('Pluto is\\na planet!') #use \\n to start a new line\n",
    "\n",
    "triplequoted_hello = \"\"\"hi\n",
    "there\n",
    "world\"\"\"\n",
    "print(triplequoted_hello) #can use triple quotes to break string multiple lines\n",
    "print(\"\"\"hi\n",
    "there\n",
    "world\"\"\") #another example\n",
    "print(\"hello\", end=\"\") #use ,end=\"\" to keep the string going between statements\n",
    "print(\"world\", end=\"\")\n",
    "print(\"2\")"
   ]
  },
  {
   "cell_type": "code",
   "execution_count": 49,
   "metadata": {},
   "outputs": [
    {
     "name": "stdout",
     "output_type": "stream",
     "text": [
      "4\n",
      "2\n",
      "True\n",
      "True\n",
      "lo w\n",
      "Hello w\n",
      "lo world!\n",
      " ol\n",
      "o worl\n",
      "!dlrow olleH\n",
      "['a! ', 'b! ', 'c! ', 'd! ', 'e! ', 'f! ', 'g! ']\n"
     ]
    }
   ],
   "source": [
    "#getting the index of a letter and indexes in a range\n",
    "print(bString.index(\"o\"))   #prints 4 because 0 is the first o in the string and it's at index 4\n",
    "print(bString.count(\"o\"))   #prints 2 because there are 2 o in Hello World\n",
    "print(bString[3:7])         #prints BETWEEN index 3 and index 7 ---> \"lo w\"\n",
    "print(bString[:7])          #prints from start to index 6\n",
    "print(bString[3:])          #prints from index 4 to the end\n",
    "print(bString[5:11:2])      #prints 4-6 and skips two characters [start:stop:step]\n",
    "print(bString[4:-2])        #negative numbers mean the index that many characters from the end of the string\n",
    "print(bString[::-1])        #reverses the string \"!dlrow olleH\"\n",
    "\n",
    "anotherString = \"abcdefg\"\n",
    "print([char + '! ' for char in anotherString]) #You can loop over strings\n",
    "\n",
    "#cString[0] = \"B\" #won't work because cann't modify or append strings in python"
   ]
  },
  {
   "cell_type": "code",
   "execution_count": 50,
   "metadata": {},
   "outputs": [
    {
     "name": "stdout",
     "output_type": "stream",
     "text": [
      "HELLO WORLD!\n",
      "hello world!\n",
      "True\n",
      "False\n"
     ]
    }
   ],
   "source": [
    "#upper and lowercase formatting\n",
    "cString = \"Hello world!\"\n",
    "print(cString.upper())      #to uppercase\n",
    "print(cString.lower())      #to lowercase\n",
    "print(cString.startswith(\"Hello\"))  #boolean = true\n",
    "print(cString.endswith(\"asdfadfadfadsf\"))   #boolean = false"
   ]
  },
  {
   "cell_type": "code",
   "execution_count": 54,
   "metadata": {},
   "outputs": [
    {
     "name": "stdout",
     "output_type": "stream",
     "text": [
      "world!\n",
      "1956 01 31\n"
     ]
    },
    {
     "data": {
      "text/plain": [
       "'01/31/1956'"
      ]
     },
     "execution_count": 54,
     "metadata": {},
     "output_type": "execute_result"
    }
   ],
   "source": [
    "#using splits and delimiters\n",
    "aFewWords = cString.split(\" \") #creates a list and uses the space as a delimitor\n",
    "print(aFewWords[1])         #prints \"world!\"\n",
    "\n",
    "dateString = '1956-01-31'\n",
    "year, month, day = dateString.split('-') #creates variables to assign the split parts to\n",
    "print(year, month, day)\n",
    "'/'.join([month, day, year]) #sew the strings into one long string using string at beginning as delimiter"
   ]
  },
  {
   "cell_type": "code",
   "execution_count": 13,
   "metadata": {},
   "outputs": [
    {
     "name": "stdout",
     "output_type": "stream",
     "text": [
      "True\n",
      "False\n",
      "True\n"
     ]
    }
   ],
   "source": [
    "#conditional statments in Python with booleans\n",
    "x = 2\n",
    "print(x == 2)               #prints True\n",
    "print(x == 3)               #prints False\n",
    "print(x < a)                #prints True"
   ]
  },
  {
   "cell_type": "code",
   "execution_count": 14,
   "metadata": {},
   "outputs": [
    {
     "name": "stdout",
     "output_type": "stream",
     "text": [
      "Your name is John, and you are also 23 years old.\n",
      "Your name is either John or Rick.\n",
      "Your name is either John or Rick.\n"
     ]
    }
   ],
   "source": [
    "#conditional if statments\n",
    "name = \"John\"\n",
    "age = 23\n",
    "if name == \"John\" and age == 23: #if name and age are true...\n",
    "    print(\"Your name is %s, and you are also %d years old.\" %(name, age))\n",
    "\n",
    "if name == \"John\" or name == \"Rick\": #if either is True\n",
    "    print(\"Your name is either John or Rick.\")\n",
    "\n",
    "if name in [\"John\", \"Rick\"]:    #if its true that the varaible is in the list...\n",
    "    print(\"Your name is either John or Rick.\")"
   ]
  },
  {
   "cell_type": "code",
   "execution_count": 15,
   "metadata": {},
   "outputs": [
    {
     "name": "stdout",
     "output_type": "stream",
     "text": [
      "do something else\n"
     ]
    }
   ],
   "source": [
    "#conditional else if statements\n",
    "statement = False\n",
    "another_statement = True\n",
    "if statement is True:       #prints \"do something else\"\n",
    "    print(\"do something\")\n",
    "    pass\n",
    "elif another_statement is True: #else if\n",
    "    print(\"do something else\")\n",
    "    pass\n",
    "else:\n",
    "    print(\"do another thing\")\n",
    "    pass"
   ]
  },
  {
   "cell_type": "code",
   "execution_count": 16,
   "metadata": {},
   "outputs": [
    {
     "name": "stdout",
     "output_type": "stream",
     "text": [
      "True\n",
      "False\n"
     ]
    }
   ],
   "source": [
    "# == matches the VALUE of the variable\n",
    "# \"is\" operator matches the INSTANCE of the variable\n",
    "x = [1, 2, 3]\n",
    "y = [1, 2, 3]\n",
    "print(x == y) #True\n",
    "print(x is y) #False"
   ]
  },
  {
   "cell_type": "code",
   "execution_count": 17,
   "metadata": {},
   "outputs": [
    {
     "name": "stdout",
     "output_type": "stream",
     "text": [
      "True\n",
      "False\n"
     ]
    }
   ],
   "source": [
    "#\"not\" works like ! does in C#\n",
    "print(not False) #True\n",
    "print((not False) == (False)) #False"
   ]
  },
  {
   "cell_type": "code",
   "execution_count": null,
   "metadata": {},
   "outputs": [],
   "source": [
    "#Lists can be mixed variables or arrays\n",
    "my_favorite_things = [32, 'raindrops on roses', help, ['j', 'q', 'k']]"
   ]
  },
  {
   "cell_type": "code",
   "execution_count": 67,
   "metadata": {},
   "outputs": [
    {
     "name": "stdout",
     "output_type": "stream",
     "text": [
      "1\n",
      "{'one': 1, 'two': 2, 'three': 3, 'eleven': 11}\n",
      "{'one': 'Pluto', 'two': 2, 'three': 3, 'eleven': 11}\n"
     ]
    }
   ],
   "source": [
    "#using dictionaries in Python\n",
    "numbers = {\"one\":1, \"two\":2, \"three\":3} #one, two, and three are the keys to the values\n",
    "print(numbers[\"one\"]) #ask for a value with the key for that value\n",
    "numbers[\"eleven\"] = 11 #add numbers to the dictionary like this\n",
    "print(numbers)\n",
    "numbers[\"one\"] = \"Pluto\" #change one of the dictionary values like this\n",
    "print(numbers)"
   ]
  },
  {
   "cell_type": "code",
   "execution_count": 81,
   "metadata": {
    "scrolled": true
   },
   "outputs": [
    {
     "name": "stdout",
     "output_type": "stream",
     "text": [
      "{'Mercury': 'M', 'Venus': 'V', 'Earth': 'E', 'Mars': 'M', 'Jupiter': 'J', 'Saturn': 'S', 'Uranus': 'U', 'Neptune': 'N'}\n",
      "Mercury = M\n",
      "Venus = V\n",
      "Earth = E\n",
      "Mars = M\n",
      "Jupiter = J\n",
      "Saturn = S\n",
      "Uranus = U\n",
      "Neptune = N\n",
      "dict_values(['M', 'V', 'E', 'M', 'J', 'S', 'U', 'N'])\n",
      "M V E M J S U N\n",
      "dict_keys(['Mercury', 'Venus', 'Earth', 'Mars', 'Jupiter', 'Saturn', 'Uranus', 'Neptune'])\n",
      "Mercury-> Venus-> Earth-> Mars-> Jupiter-> Saturn-> Uranus-> Neptune\n",
      "   Mercury begins with \"M\"\n",
      "     Venus begins with \"V\"\n",
      "     Earth begins with \"E\"\n",
      "      Mars begins with \"M\"\n",
      "   Jupiter begins with \"J\"\n",
      "    Saturn begins with \"S\"\n",
      "    Uranus begins with \"U\"\n",
      "   Neptune begins with \"N\"\n"
     ]
    }
   ],
   "source": [
    "#Compresion Dictionaries\n",
    "planets = ['Mercury', 'Venus', 'Earth', 'Mars', 'Jupiter', 'Saturn', 'Uranus', 'Neptune']\n",
    "planet_to_initial = {planet: planet[0] for planet in planets} #for each planet in the List create a Dict entry with first letter\n",
    "print(planet_to_initial)\n",
    "\n",
    "for planet in planet_to_initial: #for loop will loop over the dictionary keys (planet names)\n",
    "    print(\"{} = {}\".format(planet, planet_to_initial[planet])) #print the key and the value\n",
    "    \n",
    "print(planet_to_initial.values()) #print values\n",
    "print(\" \".join(planet_to_initial.values())) #print values as string with spacer\n",
    "print(planet_to_initial.keys()) #print keys\n",
    "print(\"-> \".join(planet_to_initial.keys())) #print keys as string with spacer\n",
    "\n",
    "for planet, initial in planet_to_initial.items(): #dict.items() refers to key/value pair\n",
    "    print('{} begins with \"{}\"'.format(planet.rjust(10), initial))"
   ]
  },
  {
   "cell_type": "code",
   "execution_count": 87,
   "metadata": {},
   "outputs": [
    {
     "data": {
      "text/plain": [
       "[0]"
      ]
     },
     "execution_count": 87,
     "metadata": {},
     "output_type": "execute_result"
    }
   ],
   "source": [
    "#Iterating though, cleaning, and searching for a keyword in a document\n",
    "def word_search(documents, keyword):\n",
    "    # list to hold the indices of matching documents\n",
    "    indices = [] \n",
    "    \n",
    "    # Iterate through the indices (i) and elements (doc) of documents\n",
    "    for i, doc in enumerate(documents):\n",
    "        # Split the string doc into a list of words (according to whitespace)\n",
    "        tokens = doc.split()\n",
    "        \n",
    "        # Make a transformed list where we 'normalize' each word to facilitate matching.\n",
    "        # Periods and commas are removed from the end of each word, and it's set to all lowercase.\n",
    "        normalized = [token.rstrip('.,').lower() for token in tokens]\n",
    "        \n",
    "        # Is there a match? If so, update the list of matching indices.\n",
    "        if keyword.lower() in normalized:\n",
    "            indices.append(i)\n",
    "            \n",
    "    return indices\n",
    "\n",
    "documents = ['The Learn Python Challenge Casino', 'They bought a car, and a horse', 'Casinoville?']\n",
    "keyword='casino'\n",
    "word_search(documents, keyword) #there is casino is the first element of the document"
   ]
  },
  {
   "cell_type": "code",
   "execution_count": 92,
   "metadata": {},
   "outputs": [
    {
     "data": {
      "text/plain": [
       "{'casino': [0], 'they': [1]}"
      ]
     },
     "execution_count": 92,
     "metadata": {},
     "output_type": "execute_result"
    }
   ],
   "source": [
    "#Iterating though, cleaning, and searching for multiple keywords in a document\n",
    "def multi_word_search(doc_list, keywords):\n",
    "    \"\"\"\n",
    "    Takes list of documents (each document is a string) and a list of keywords.  \n",
    "    Returns a dictionary where each key is a keyword, and the value is a list of indices\n",
    "    (from doc_list) of the documents containing that keyword\n",
    "\n",
    "    >>> doc_list = [\"The Learn Python Challenge Casino.\", \"They bought a car and a casino\", \"Casinoville\"]\n",
    "    >>> keywords = ['casino', 'they']\n",
    "    >>> multi_word_search(doc_list, keywords)\n",
    "    {'casino': [0, 1], 'they': [1]}\n",
    "    \"\"\"   \n",
    "    \n",
    "    keyword_to_indices = {}\n",
    "    \n",
    "    for keyword in keywords:\n",
    "        keyword_to_indices[keyword] = word_search(doc_list, keyword)\n",
    "        \n",
    "    return keyword_to_indices\n",
    "\n",
    "documents = ['The Learn Python Challenge Casino', 'They bought a car, and a horse', 'Casinoville?']\n",
    "keywords = ['casino', 'they']\n",
    "multi_word_search(documents, keywords) #there is casino is the first element of the document"
   ]
  },
  {
   "cell_type": "code",
   "execution_count": null,
   "metadata": {},
   "outputs": [],
   "source": [
    "#importing libraries for Python\n",
    "#common imports are mtah, numpy, and pandas\n",
    "#import math as mt\n",
    "#import numpy as mp  #these are all common short forms if your going to call them often\n",
    "#import pandas as np\n",
    "#from math import * ----> don't have to call math.pi, you can just call the variable pi\n",
    "#----best practice (only import what you use)---\n",
    "#from math import log, pi\n",
    "#from numpy import asarray"
   ]
  },
  {
   "cell_type": "code",
   "execution_count": 98,
   "metadata": {},
   "outputs": [
    {
     "name": "stdout",
     "output_type": "stream",
     "text": [
      "numpy.random is a <class 'module'>\n",
      "it contains names such as... ['set_state', 'shuffle', 'standard_cauchy', 'standard_exponential', 'standard_gamma', 'standard_normal', 'standard_t', 'test', 'triangular', 'uniform', 'vonmises', 'wald', 'warnings', 'weibull', 'zipf']\n"
     ]
    },
    {
     "data": {
      "text/plain": [
       "array([6, 4, 5, 3, 3, 1, 6, 2, 1, 4])"
      ]
     },
     "execution_count": 98,
     "metadata": {},
     "output_type": "execute_result"
    }
   ],
   "source": [
    "import numpy\n",
    "print(\"numpy.random is a\", type(numpy.random))\n",
    "print(\"it contains names such as...\",\n",
    "      dir(numpy.random)[-15:]\n",
    "     )\n",
    "\n",
    "# Roll 10 dice. High is not inclusive, so high of 7 lets us roll a 6\n",
    "rolls = numpy.random.randint(low=1, high=7, size=10)\n",
    "rolls"
   ]
  },
  {
   "cell_type": "code",
   "execution_count": 97,
   "metadata": {},
   "outputs": [
    {
     "data": {
      "text/plain": [
       "numpy.ndarray"
      ]
     },
     "execution_count": 97,
     "metadata": {},
     "output_type": "execute_result"
    }
   ],
   "source": [
    "#helper function #1\n",
    "type(rolls) #type() (\"when asking \"what is this thing?\")"
   ]
  },
  {
   "cell_type": "code",
   "execution_count": 101,
   "metadata": {},
   "outputs": [
    {
     "name": "stdout",
     "output_type": "stream",
     "text": [
      "['T', '__abs__', '__add__', '__and__', '__array__', '__array_finalize__', '__array_function__', '__array_interface__', '__array_prepare__', '__array_priority__', '__array_struct__', '__array_ufunc__', '__array_wrap__', '__bool__', '__class__', '__complex__', '__contains__', '__copy__', '__deepcopy__', '__delattr__', '__delitem__', '__dir__', '__divmod__', '__doc__', '__eq__', '__float__', '__floordiv__', '__format__', '__ge__', '__getattribute__', '__getitem__', '__gt__', '__hash__', '__iadd__', '__iand__', '__ifloordiv__', '__ilshift__', '__imatmul__', '__imod__', '__imul__', '__index__', '__init__', '__init_subclass__', '__int__', '__invert__', '__ior__', '__ipow__', '__irshift__', '__isub__', '__iter__', '__itruediv__', '__ixor__', '__le__', '__len__', '__lshift__', '__lt__', '__matmul__', '__mod__', '__mul__', '__ne__', '__neg__', '__new__', '__or__', '__pos__', '__pow__', '__radd__', '__rand__', '__rdivmod__', '__reduce__', '__reduce_ex__', '__repr__', '__rfloordiv__', '__rlshift__', '__rmatmul__', '__rmod__', '__rmul__', '__ror__', '__rpow__', '__rrshift__', '__rshift__', '__rsub__', '__rtruediv__', '__rxor__', '__setattr__', '__setitem__', '__setstate__', '__sizeof__', '__str__', '__sub__', '__subclasshook__', '__truediv__', '__xor__', 'all', 'any', 'argmax', 'argmin', 'argpartition', 'argsort', 'astype', 'base', 'byteswap', 'choose', 'clip', 'compress', 'conj', 'conjugate', 'copy', 'ctypes', 'cumprod', 'cumsum', 'data', 'diagonal', 'dot', 'dtype', 'dump', 'dumps', 'fill', 'flags', 'flat', 'flatten', 'getfield', 'imag', 'item', 'itemset', 'itemsize', 'max', 'mean', 'min', 'nbytes', 'ndim', 'newbyteorder', 'nonzero', 'partition', 'prod', 'ptp', 'put', 'ravel', 'real', 'repeat', 'reshape', 'resize', 'round', 'searchsorted', 'setfield', 'setflags', 'shape', 'size', 'sort', 'squeeze', 'std', 'strides', 'sum', 'swapaxes', 'take', 'tobytes', 'tofile', 'tolist', 'tostring', 'trace', 'transpose', 'var', 'view']\n"
     ]
    }
   ],
   "source": [
    "#helper function #2\n",
    "print(dir(rolls)) #(what can I do with it?)"
   ]
  },
  {
   "cell_type": "code",
   "execution_count": 102,
   "metadata": {},
   "outputs": [
    {
     "data": {
      "text/plain": [
       "3.5"
      ]
     },
     "execution_count": 102,
     "metadata": {},
     "output_type": "execute_result"
    }
   ],
   "source": [
    "# What am I trying to do with this dice roll data? Maybe I want the average roll, in which case the \"mean\"\n",
    "# method looks promising...\n",
    "rolls.mean()"
   ]
  },
  {
   "cell_type": "code",
   "execution_count": 103,
   "metadata": {},
   "outputs": [
    {
     "data": {
      "text/plain": [
       "[6, 4, 5, 3, 3, 1, 6, 2, 1, 4]"
      ]
     },
     "execution_count": 103,
     "metadata": {},
     "output_type": "execute_result"
    }
   ],
   "source": [
    "# Or maybe I just want to get back on familiar ground, in which case I might want to check out \"tolist\"\n",
    "rolls.tolist()"
   ]
  },
  {
   "cell_type": "code",
   "execution_count": 105,
   "metadata": {},
   "outputs": [
    {
     "name": "stdout",
     "output_type": "stream",
     "text": [
      "Help on built-in function ravel:\n",
      "\n",
      "ravel(...) method of numpy.ndarray instance\n",
      "    a.ravel([order])\n",
      "    \n",
      "    Return a flattened array.\n",
      "    \n",
      "    Refer to `numpy.ravel` for full documentation.\n",
      "    \n",
      "    See Also\n",
      "    --------\n",
      "    numpy.ravel : equivalent function\n",
      "    \n",
      "    ndarray.flat : a flat iterator on the array.\n",
      "\n"
     ]
    }
   ],
   "source": [
    "# That \"ravel\" attribute sounds interesting. I'm a big classical music fan.\n",
    "help(rolls.ravel)"
   ]
  },
  {
   "cell_type": "markdown",
   "metadata": {},
   "source": []
  }
 ],
 "metadata": {
  "kernelspec": {
   "display_name": "Python 3",
   "language": "python",
   "name": "python3"
  },
  "language_info": {
   "codemirror_mode": {
    "name": "ipython",
    "version": 3
   },
   "file_extension": ".py",
   "mimetype": "text/x-python",
   "name": "python",
   "nbconvert_exporter": "python",
   "pygments_lexer": "ipython3",
   "version": "3.7.3"
  }
 },
 "nbformat": 4,
 "nbformat_minor": 2
}
