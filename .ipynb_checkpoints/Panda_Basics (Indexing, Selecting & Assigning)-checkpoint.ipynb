{
 "cells": [
  {
   "cell_type": "code",
   "execution_count": 1,
   "metadata": {},
   "outputs": [],
   "source": [
    "#Accessing a column(series) in a panda dataframe using Python3\n",
    "#reviews.county or reviews['country']\n",
    "#book.title or book['title']\n",
    "#book.stupid title WOULD NOT work but book['stupid title'] WOULD work"
   ]
  },
  {
   "cell_type": "code",
   "execution_count": 2,
   "metadata": {},
   "outputs": [],
   "source": [
    "#Select a row from the series using Python3\n",
    "#reviews.country[0] or reviews['county'][0] to get the first entry"
   ]
  },
  {
   "cell_type": "code",
   "execution_count": 3,
   "metadata": {},
   "outputs": [],
   "source": [
    "#Select a row using Pandas syntax \"iloc\" (index based selection)\n",
    "#reviews.iloc[0] which is row-first, colunms second\n",
    "#reviews.iloc[:, 0] gets everything in the row, for just the first column (****: means everything (wildcard)****)\n",
    "#reviews.iloc[:3, 0] gets rows 0, 1, and 2 on the first column\n",
    "#reviews.iloc[1:3, 0] would get rows 2 and 3 on the first column\n",
    "#reviews.iloc[[0, 1, 2], 0] passes rows 0, 1, and 2 as a list for just column one\n",
    "#reviews.iloc[-5:] gets everything from the 5th last item to the last row\n",
    "#review.iloc[[1, 2, 3, 5, 8]] gets rows 1, 2, 3, then 5, then 8\n",
    "\n",
    "#iloc uses stanlib indexing, 0:10 will select 0, 1, 2, 3, 4, 5, 6, 7, 8, 9"
   ]
  },
  {
   "cell_type": "code",
   "execution_count": 4,
   "metadata": {},
   "outputs": [],
   "source": [
    "#Selecting a row by name using Panda syntax \"loc\" (label based selection)\n",
    "#reviews.loc[0, 'country'] gets the value in the first row in column 'country' (= 'Italy')\n",
    "#reviews.loc[:, ['taster_name, 'taster_twitter_handle', 'points']] gets all rows for these three columns\n",
    "\n",
    "#loc uses inclusive indexing, 0:10 will select 0, 1, 2, 3, 4, 5, 6, 7, 8, 9, 10 (careful- this is 11 numbers!!!!!!!)"
   ]
  },
  {
   "cell_type": "code",
   "execution_count": 5,
   "metadata": {},
   "outputs": [],
   "source": [
    "#Manipulating the index\n",
    "#reviews.set_index('title') sets the row names to the 'title' column (useful if a column is good for a organizing the data)"
   ]
  },
  {
   "cell_type": "code",
   "execution_count": 6,
   "metadata": {},
   "outputs": [],
   "source": [
    "#Checking Values in the DataFrame\n",
    "#reviews.country == 'Italy' would return all row indexes and a true/false value\n",
    "#reviews.loc[reviews.country == 'Italy'] returns the true values for loc (all rows where country = 'Italy')\n",
    "#reviews.loc[(reviews.country == 'Italy') & (reviews.points >= 90)] combined qualifiers\n",
    "#reviews.loc[(reviews.country == 'Italy') | (reviews.points >= 90)] either/or qualifier\n",
    "#reviews.loc[reviews.country.isin(['Italy', 'France'])] gets rows that have 'Italy' & 'France' in the country column\n",
    "#reviews.loc[reviews.price.notnull()] filters out rows lacking a value in the price column\n",
    "#reviews.loc[reviews.price.isnull()] gets rows where the price value is missing\n",
    "#top_wines = reviews.loc[((reviews.country == 'Australia') | (reviews.country == 'New Zealand')) & (reviews.points >= 95)]"
   ]
  },
  {
   "cell_type": "code",
   "execution_count": 7,
   "metadata": {},
   "outputs": [],
   "source": [
    "#Assigning values to the index\n",
    "#reviews['critic'] = 'everyone' adds a constant value to the Dataframe for all rows in the column 'critic'\n",
    "#reviews['index_backwards'] = range(len(reviews), 0, -1) starts at the end, stops at beginning, steps by -1"
   ]
  },
  {
   "cell_type": "code",
   "execution_count": null,
   "metadata": {},
   "outputs": [],
   "source": []
  }
 ],
 "metadata": {
  "kernelspec": {
   "display_name": "Python 3",
   "language": "python",
   "name": "python3"
  },
  "language_info": {
   "codemirror_mode": {
    "name": "ipython",
    "version": 3
   },
   "file_extension": ".py",
   "mimetype": "text/x-python",
   "name": "python",
   "nbconvert_exporter": "python",
   "pygments_lexer": "ipython3",
   "version": "3.7.3"
  }
 },
 "nbformat": 4,
 "nbformat_minor": 2
}
