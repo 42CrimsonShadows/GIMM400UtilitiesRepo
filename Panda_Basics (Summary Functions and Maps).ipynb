{
 "cells": [
  {
   "cell_type": "code",
   "execution_count": 1,
   "metadata": {},
   "outputs": [],
   "source": [
    "#Ways to summarize dataframes\n",
    "#reviews.points.describe() gives you a high level summary of the attributes of the given coumn (it is type aware)\n",
    "#reviews.taster_name.descibe() gives you a different type of summary\n",
    "#reviews.points.mean() gives you the mean of all the numeric values in that column\n",
    "#reviews.points.median() gives you the median of the series values\n",
    "#reviews.taster_name.unique() gives an array of unique values in the column\n",
    "#revies.taster_name.value_counts() gives a series of unique values and how often they are found in the series"
   ]
  },
  {
   "cell_type": "code",
   "execution_count": 1,
   "metadata": {},
   "outputs": [],
   "source": [
    "#Methods of mapping one set of values onto another\n",
    "#review_points_mean = reviews.points.mean() passing the review_points_mean value to map() below\n",
    "#reviews.points.map(lamba p: p - review_points_mean) given p, do: p - revew_points_mean and map to a new series points col\n",
    "#--------------\n",
    "#def remean_points(row):\n",
    "#  row.points = row.points - review_points_mean\n",
    "#  return row\n",
    "\n",
    "#review_points_mean = reviews.points.mean()\n",
    "#reviews.apply(remean_points, axis='columns') remaps all values in the points column using the function above\n",
    "#---------------\n",
    "#def remean_points(column):\n",
    "#  column.points = column.points - review_points_mean\n",
    "#  return column\n",
    "\n",
    "#review_points_mean = reviews.points.mean()\n",
    "#reviews.apply(remean_points, axis='index') would remap all column values in the index/row\n",
    "#----------------\n",
    "# or use Pandas Built-in syntax\n",
    "#review_points_mean = reviews.points.mean()\n",
    "#reviews.points - review_points_mean\n",
    "#----------------\n",
    "#reviews.county + \" - \" + reviews.region_1 easy way to combine column values if the series is the same length"
   ]
  },
  {
   "cell_type": "code",
   "execution_count": 2,
   "metadata": {},
   "outputs": [],
   "source": [
    "#getting the bargin wine from the reviews list\n",
    "# see info on idxmax ----- https://pandas.pydata.org/pandas-docs/stable/reference/api/pandas.Series.idxmax.html\n",
    "#barain_idx = (reviews.points / reviews.price).idexmax() get the max value of the reviews/price\n",
    "#bargain_wine = reviews.loc[bargain_idx, 'title'] get the title of the bargain_idx and assign to the Bargain_wine variable"
   ]
  },
  {
   "cell_type": "code",
   "execution_count": null,
   "metadata": {},
   "outputs": [],
   "source": []
  }
 ],
 "metadata": {
  "kernelspec": {
   "display_name": "Python 3",
   "language": "python",
   "name": "python3"
  },
  "language_info": {
   "codemirror_mode": {
    "name": "ipython",
    "version": 3
   },
   "file_extension": ".py",
   "mimetype": "text/x-python",
   "name": "python",
   "nbconvert_exporter": "python",
   "pygments_lexer": "ipython3",
   "version": "3.7.3"
  }
 },
 "nbformat": 4,
 "nbformat_minor": 2
}
